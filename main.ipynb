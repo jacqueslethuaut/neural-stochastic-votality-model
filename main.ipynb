{
 "cells": [
  {
   "cell_type": "code",
   "execution_count": 1,
   "metadata": {},
   "outputs": [],
   "source": [
    "%load_ext autoreload\n",
    "%autoreload 2"
   ]
  },
  {
   "cell_type": "code",
   "execution_count": 2,
   "metadata": {},
   "outputs": [],
   "source": [
    "import config\n",
    "\n",
    "from ticker_analysis import finance\n",
    "from ticker_analysis.finance import FinanceApp\n",
    "from ticker_analysis.stock_data_handler import StockDataHandler\n",
    "from stochastic_recurrent_neural_network import StochasticRecurrentNeuralNetwork\n",
    "from neural_network import NeuralNetwork\n"
   ]
  },
  {
   "cell_type": "code",
   "execution_count": 3,
   "metadata": {},
   "outputs": [],
   "source": [
    "# Xavier initialization\n",
    "nn_xavier = NeuralNetwork(3, 4, 1, initialization='xavier')\n",
    "\n",
    "# He initialization\n",
    "nn_he = NeuralNetwork(3, 4, 1, initialization='he')\n",
    "\n",
    "# LeCun initialization\n",
    "nn_lecun = NeuralNetwork(3, 4, 1, initialization='lecun')"
   ]
  }
 ],
 "metadata": {
  "kernelspec": {
   "display_name": "venv-310",
   "language": "python",
   "name": "python3"
  },
  "language_info": {
   "codemirror_mode": {
    "name": "ipython",
    "version": 3
   },
   "file_extension": ".py",
   "mimetype": "text/x-python",
   "name": "python",
   "nbconvert_exporter": "python",
   "pygments_lexer": "ipython3",
   "version": "3.10.11"
  },
  "orig_nbformat": 4
 },
 "nbformat": 4,
 "nbformat_minor": 2
}
