{
 "cells": [
  {
   "cell_type": "code",
   "execution_count": 13,
   "metadata": {},
   "outputs": [
    {
     "name": "stdout",
     "output_type": "stream",
     "text": [
      "The autoreload extension is already loaded. To reload it, use:\n",
      "  %reload_ext autoreload\n"
     ]
    }
   ],
   "source": [
    "%load_ext autoreload\n",
    "%autoreload 2"
   ]
  },
  {
   "cell_type": "code",
   "execution_count": 25,
   "metadata": {},
   "outputs": [],
   "source": [
    "import config\n",
    "import numpy as np\n",
    "\n",
    "from ticker_analysis import finance\n",
    "from ticker_analysis.finance import FinanceApp\n",
    "from ticker_analysis.stock_data_handler import StockDataHandler\n",
    "\n",
    "from stochastic_recurrent_neural_network import StochasticRecurrentNeuralNetwork\n",
    "from neural_network import NeuralNetwork\n",
    "from sklearn.model_selection import train_test_split\n",
    "from sklearn.preprocessing import MinMaxScaler"
   ]
  },
  {
   "cell_type": "code",
   "execution_count": 18,
   "metadata": {},
   "outputs": [
    {
     "name": "stdout",
     "output_type": "stream",
     "text": [
      "Downloading and saving data.\n"
     ]
    }
   ],
   "source": [
    "stock = StockDataHandler(ticker='AAPL', \n",
    "                         period='daily_adjusted', \n",
    "                         api_key=config.ALPHAVANTAGE_API_KEY, \n",
    "                         start_date='2004-01-01', \n",
    "                         end_date='2022-12-31')\n",
    "df = stock.get_data()"
   ]
  },
  {
   "cell_type": "code",
   "execution_count": 20,
   "metadata": {},
   "outputs": [
    {
     "data": {
      "text/html": [
       "\n",
       "        <iframe\n",
       "            width=\"100%\"\n",
       "            height=\"650\"\n",
       "            src=\"http://127.0.0.1:8050/\"\n",
       "            frameborder=\"0\"\n",
       "            allowfullscreen\n",
       "            \n",
       "        ></iframe>\n",
       "        "
      ],
      "text/plain": [
       "<IPython.lib.display.IFrame at 0x146e34850>"
      ]
     },
     "metadata": {},
     "output_type": "display_data"
    }
   ],
   "source": [
    "app = FinanceApp()\n",
    "app.load_stock_data(df)\n",
    "app.show()"
   ]
  },
  {
   "cell_type": "code",
   "execution_count": 27,
   "metadata": {},
   "outputs": [],
   "source": [
    "\n",
    "def my_function(arg1, arg2):\n",
    "    \"\"\"\n",
    "    This is a simple function\n",
    "\n",
    "    :param arg1: The first argument\n",
    "    :type arg1: int\n",
    "    :param arg2: The second argument\n",
    "    :type arg2: str\n",
    "    :returns: A string containing arg1 and arg2\n",
    "    :rtype: str\n",
    "\n",
    "    .. math:: \n",
    "\n",
    "       e^{i\\pi} + 1 = 0\n",
    "    \"\"\"\n",
    "    return str(arg1) + arg2"
   ]
  },
  {
   "cell_type": "code",
   "execution_count": 23,
   "metadata": {},
   "outputs": [
    {
     "data": {
      "text/plain": [
       "Index(['1. open', '2. high', '3. low', '4. close', '5. adjusted close',\n",
       "       '6. volume', '7. dividend amount', '8. split coefficient', 'return',\n",
       "       'volatility'],\n",
       "      dtype='object')"
      ]
     },
     "execution_count": 23,
     "metadata": {},
     "output_type": "execute_result"
    }
   ],
   "source": [
    "df.columns"
   ]
  },
  {
   "cell_type": "code",
   "execution_count": 26,
   "metadata": {},
   "outputs": [
    {
     "name": "stdout",
     "output_type": "stream",
     "text": [
      "Early stopping\n"
     ]
    }
   ],
   "source": [
    "\n",
    "# Prepare the data for Neural Network\n",
    "# Here we will try to predict the Close price\n",
    "X = df.drop('4. close', axis=1).values\n",
    "y = df['4. close'].values\n",
    "\n",
    "# Normalize the data\n",
    "scaler = MinMaxScaler()\n",
    "X = scaler.fit_transform(X)\n",
    "y = y.reshape(-1, 1)\n",
    "y = scaler.fit_transform(y)\n",
    "\n",
    "# Split the data into training and validation sets\n",
    "X_train, X_val, y_train, y_val = train_test_split(X, y, test_size=0.2, random_state=42)\n",
    "\n",
    "# Define the input size, hidden size and output size\n",
    "input_size = X_train.shape[1]  # Number of features\n",
    "hidden_size = 10\n",
    "output_size = 1  # We are predicting the Close price\n",
    "\n",
    "nn = NeuralNetwork(input_size=input_size, hidden_size=hidden_size, output_size=output_size, dropout_rate=0.2)\n",
    "\n",
    "epochs = 100\n",
    "learning_rate = 0.01\n",
    "\n",
    "best_val_loss = np.inf\n",
    "patience = 10\n",
    "epochs_without_improvement = 0\n",
    "\n",
    "for epoch in range(epochs):\n",
    "    # During training, set is_training=True\n",
    "    A1, A2 = nn.forward_pass(X_train, is_training=True)\n",
    "    dW1, db1, dW2, db2 = nn.backward_pass(X_train, y_train)\n",
    "    nn.update_weights(dW1, db1, dW2, db2, learning_rate)\n",
    "\n",
    "    # Compute validation loss at each epoch\n",
    "    A1_val, A2_val = nn.forward_pass(X_val, is_training=False)\n",
    "    val_loss = nn.compute_loss(y_val, A2_val)\n",
    "\n",
    "    # If validation loss is lower than the best loss seen so far,\n",
    "    # then this is the best model we've seen so far\n",
    "    if val_loss < best_val_loss:\n",
    "        best_val_loss = val_loss\n",
    "        epochs_without_improvement = 0\n",
    "    else:\n",
    "        # If validation loss didn't improve, increment counter\n",
    "        epochs_without_improvement += 1\n",
    "\n",
    "    if epochs_without_improvement >= patience:\n",
    "        print(\"Early stopping\")\n",
    "        break\n"
   ]
  }
 ],
 "metadata": {
  "kernelspec": {
   "display_name": "venv-310",
   "language": "python",
   "name": "python3"
  },
  "language_info": {
   "codemirror_mode": {
    "name": "ipython",
    "version": 3
   },
   "file_extension": ".py",
   "mimetype": "text/x-python",
   "name": "python",
   "nbconvert_exporter": "python",
   "pygments_lexer": "ipython3",
   "version": "3.10.11"
  },
  "orig_nbformat": 4
 },
 "nbformat": 4,
 "nbformat_minor": 2
}
